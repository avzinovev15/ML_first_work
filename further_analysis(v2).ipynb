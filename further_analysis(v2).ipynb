{
 "cells": [
  {
   "cell_type": "code",
   "execution_count": 21,
   "metadata": {
    "collapsed": true
   },
   "outputs": [],
   "source": [
    "import pandas as pd\n",
    "\n",
    "from sklearn.model_selection import train_test_split\n",
    "from sklearn.dummy import DummyRegressor\n",
    "from sklearn.linear_model import LinearRegression\n",
    "\n",
    "df2 = pd.read_csv('huh.csv')"
   ]
  },
  {
   "cell_type": "markdown",
   "source": [
    "Как устроен этот блокнот: вначале проводится исследование нескольких моделей для данных с отброшенными категориальными столбцами. Затем все то же повторяется для данных с категориальными столбцами, уже без комментариев. В конце присутствует сводная таблица эффективности моделей для обоих случаев, небольшой вывод и параметры наиболее успешных моделей\n",
    "\n",
    "Попробуем вместо label encoding просто отбросить категориальные данные"
   ],
   "metadata": {
    "collapsed": false
   }
  },
  {
   "cell_type": "code",
   "execution_count": 22,
   "outputs": [
    {
     "data": {
      "text/plain": "   Unnamed: 0  hour  day  month  price  distance  surge_multiplier  \\\n0           0     9   16     12    5.0      0.44               1.0   \n1           1     2   27     11   11.0      0.44               1.0   \n2           2     1   28     11    7.0      0.44               1.0   \n3           3     4   30     11   26.0      0.44               1.0   \n4           4     3   29     11    9.0      0.44               1.0   \n\n   temperature  precipIntensity  precipProbability  ...  \\\n0        42.34           0.0000                0.0  ...   \n1        43.58           0.1299                1.0  ...   \n2        38.33           0.0000                0.0  ...   \n3        34.38           0.0000                0.0  ...   \n4        37.44           0.0000                0.0  ...   \n\n   apparentTemperatureLow  dewPoint  pressure  windBearing  cloudCover  \\\n0                   27.39     32.70   1021.98           57        0.72   \n1                   36.20     41.83   1003.97           90        1.00   \n2                   29.11     31.10    992.28          240        0.03   \n3                   26.20     26.64   1013.73          310        0.00   \n4                   30.29     28.61    998.36          303        0.44   \n\n   uvIndex  ozone  moonPhase  precipIntensityMax  temperatureMin  \n0        0  303.8       0.30              0.1276           39.89  \n1        0  291.1       0.64              0.1300           40.49  \n2        0  315.7       0.68              0.1064           35.36  \n3        0  291.1       0.75              0.0000           34.67  \n4        0  347.7       0.72              0.0001           33.10  \n\n[5 rows x 27 columns]",
      "text/html": "<div>\n<style scoped>\n    .dataframe tbody tr th:only-of-type {\n        vertical-align: middle;\n    }\n\n    .dataframe tbody tr th {\n        vertical-align: top;\n    }\n\n    .dataframe thead th {\n        text-align: right;\n    }\n</style>\n<table border=\"1\" class=\"dataframe\">\n  <thead>\n    <tr style=\"text-align: right;\">\n      <th></th>\n      <th>Unnamed: 0</th>\n      <th>hour</th>\n      <th>day</th>\n      <th>month</th>\n      <th>price</th>\n      <th>distance</th>\n      <th>surge_multiplier</th>\n      <th>temperature</th>\n      <th>precipIntensity</th>\n      <th>precipProbability</th>\n      <th>...</th>\n      <th>apparentTemperatureLow</th>\n      <th>dewPoint</th>\n      <th>pressure</th>\n      <th>windBearing</th>\n      <th>cloudCover</th>\n      <th>uvIndex</th>\n      <th>ozone</th>\n      <th>moonPhase</th>\n      <th>precipIntensityMax</th>\n      <th>temperatureMin</th>\n    </tr>\n  </thead>\n  <tbody>\n    <tr>\n      <th>0</th>\n      <td>0</td>\n      <td>9</td>\n      <td>16</td>\n      <td>12</td>\n      <td>5.0</td>\n      <td>0.44</td>\n      <td>1.0</td>\n      <td>42.34</td>\n      <td>0.0000</td>\n      <td>0.0</td>\n      <td>...</td>\n      <td>27.39</td>\n      <td>32.70</td>\n      <td>1021.98</td>\n      <td>57</td>\n      <td>0.72</td>\n      <td>0</td>\n      <td>303.8</td>\n      <td>0.30</td>\n      <td>0.1276</td>\n      <td>39.89</td>\n    </tr>\n    <tr>\n      <th>1</th>\n      <td>1</td>\n      <td>2</td>\n      <td>27</td>\n      <td>11</td>\n      <td>11.0</td>\n      <td>0.44</td>\n      <td>1.0</td>\n      <td>43.58</td>\n      <td>0.1299</td>\n      <td>1.0</td>\n      <td>...</td>\n      <td>36.20</td>\n      <td>41.83</td>\n      <td>1003.97</td>\n      <td>90</td>\n      <td>1.00</td>\n      <td>0</td>\n      <td>291.1</td>\n      <td>0.64</td>\n      <td>0.1300</td>\n      <td>40.49</td>\n    </tr>\n    <tr>\n      <th>2</th>\n      <td>2</td>\n      <td>1</td>\n      <td>28</td>\n      <td>11</td>\n      <td>7.0</td>\n      <td>0.44</td>\n      <td>1.0</td>\n      <td>38.33</td>\n      <td>0.0000</td>\n      <td>0.0</td>\n      <td>...</td>\n      <td>29.11</td>\n      <td>31.10</td>\n      <td>992.28</td>\n      <td>240</td>\n      <td>0.03</td>\n      <td>0</td>\n      <td>315.7</td>\n      <td>0.68</td>\n      <td>0.1064</td>\n      <td>35.36</td>\n    </tr>\n    <tr>\n      <th>3</th>\n      <td>3</td>\n      <td>4</td>\n      <td>30</td>\n      <td>11</td>\n      <td>26.0</td>\n      <td>0.44</td>\n      <td>1.0</td>\n      <td>34.38</td>\n      <td>0.0000</td>\n      <td>0.0</td>\n      <td>...</td>\n      <td>26.20</td>\n      <td>26.64</td>\n      <td>1013.73</td>\n      <td>310</td>\n      <td>0.00</td>\n      <td>0</td>\n      <td>291.1</td>\n      <td>0.75</td>\n      <td>0.0000</td>\n      <td>34.67</td>\n    </tr>\n    <tr>\n      <th>4</th>\n      <td>4</td>\n      <td>3</td>\n      <td>29</td>\n      <td>11</td>\n      <td>9.0</td>\n      <td>0.44</td>\n      <td>1.0</td>\n      <td>37.44</td>\n      <td>0.0000</td>\n      <td>0.0</td>\n      <td>...</td>\n      <td>30.29</td>\n      <td>28.61</td>\n      <td>998.36</td>\n      <td>303</td>\n      <td>0.44</td>\n      <td>0</td>\n      <td>347.7</td>\n      <td>0.72</td>\n      <td>0.0001</td>\n      <td>33.10</td>\n    </tr>\n  </tbody>\n</table>\n<p>5 rows × 27 columns</p>\n</div>"
     },
     "execution_count": 22,
     "metadata": {},
     "output_type": "execute_result"
    }
   ],
   "source": [
    "from sklearn.preprocessing import LabelEncoder\n",
    "\n",
    "df = df2.select_dtypes(['number'])\n",
    "df.head(5)"
   ],
   "metadata": {
    "collapsed": false
   }
  },
  {
   "cell_type": "markdown",
   "source": [
    "Вновь обучим модель линейной регрессии и dummy-регрессор. В прошлом эксперименте лучше показал себя dummy-регрессор со стратегией взятия среднего значения, используем его\n",
    "\n",
    "Кроме того, каждый регрессор загрузим в соответствующий ему пайплайн с рескейлером"
   ],
   "metadata": {
    "collapsed": false
   }
  },
  {
   "cell_type": "code",
   "execution_count": 23,
   "outputs": [
    {
     "data": {
      "text/plain": "Pipeline(steps=[('scaler', StandardScaler()), ('clf', LinearRegression())])",
      "text/html": "<style>#sk-container-id-4 {color: black;background-color: white;}#sk-container-id-4 pre{padding: 0;}#sk-container-id-4 div.sk-toggleable {background-color: white;}#sk-container-id-4 label.sk-toggleable__label {cursor: pointer;display: block;width: 100%;margin-bottom: 0;padding: 0.3em;box-sizing: border-box;text-align: center;}#sk-container-id-4 label.sk-toggleable__label-arrow:before {content: \"▸\";float: left;margin-right: 0.25em;color: #696969;}#sk-container-id-4 label.sk-toggleable__label-arrow:hover:before {color: black;}#sk-container-id-4 div.sk-estimator:hover label.sk-toggleable__label-arrow:before {color: black;}#sk-container-id-4 div.sk-toggleable__content {max-height: 0;max-width: 0;overflow: hidden;text-align: left;background-color: #f0f8ff;}#sk-container-id-4 div.sk-toggleable__content pre {margin: 0.2em;color: black;border-radius: 0.25em;background-color: #f0f8ff;}#sk-container-id-4 input.sk-toggleable__control:checked~div.sk-toggleable__content {max-height: 200px;max-width: 100%;overflow: auto;}#sk-container-id-4 input.sk-toggleable__control:checked~label.sk-toggleable__label-arrow:before {content: \"▾\";}#sk-container-id-4 div.sk-estimator input.sk-toggleable__control:checked~label.sk-toggleable__label {background-color: #d4ebff;}#sk-container-id-4 div.sk-label input.sk-toggleable__control:checked~label.sk-toggleable__label {background-color: #d4ebff;}#sk-container-id-4 input.sk-hidden--visually {border: 0;clip: rect(1px 1px 1px 1px);clip: rect(1px, 1px, 1px, 1px);height: 1px;margin: -1px;overflow: hidden;padding: 0;position: absolute;width: 1px;}#sk-container-id-4 div.sk-estimator {font-family: monospace;background-color: #f0f8ff;border: 1px dotted black;border-radius: 0.25em;box-sizing: border-box;margin-bottom: 0.5em;}#sk-container-id-4 div.sk-estimator:hover {background-color: #d4ebff;}#sk-container-id-4 div.sk-parallel-item::after {content: \"\";width: 100%;border-bottom: 1px solid gray;flex-grow: 1;}#sk-container-id-4 div.sk-label:hover label.sk-toggleable__label {background-color: #d4ebff;}#sk-container-id-4 div.sk-serial::before {content: \"\";position: absolute;border-left: 1px solid gray;box-sizing: border-box;top: 0;bottom: 0;left: 50%;z-index: 0;}#sk-container-id-4 div.sk-serial {display: flex;flex-direction: column;align-items: center;background-color: white;padding-right: 0.2em;padding-left: 0.2em;position: relative;}#sk-container-id-4 div.sk-item {position: relative;z-index: 1;}#sk-container-id-4 div.sk-parallel {display: flex;align-items: stretch;justify-content: center;background-color: white;position: relative;}#sk-container-id-4 div.sk-item::before, #sk-container-id-4 div.sk-parallel-item::before {content: \"\";position: absolute;border-left: 1px solid gray;box-sizing: border-box;top: 0;bottom: 0;left: 50%;z-index: -1;}#sk-container-id-4 div.sk-parallel-item {display: flex;flex-direction: column;z-index: 1;position: relative;background-color: white;}#sk-container-id-4 div.sk-parallel-item:first-child::after {align-self: flex-end;width: 50%;}#sk-container-id-4 div.sk-parallel-item:last-child::after {align-self: flex-start;width: 50%;}#sk-container-id-4 div.sk-parallel-item:only-child::after {width: 0;}#sk-container-id-4 div.sk-dashed-wrapped {border: 1px dashed gray;margin: 0 0.4em 0.5em 0.4em;box-sizing: border-box;padding-bottom: 0.4em;background-color: white;}#sk-container-id-4 div.sk-label label {font-family: monospace;font-weight: bold;display: inline-block;line-height: 1.2em;}#sk-container-id-4 div.sk-label-container {text-align: center;}#sk-container-id-4 div.sk-container {/* jupyter's `normalize.less` sets `[hidden] { display: none; }` but bootstrap.min.css set `[hidden] { display: none !important; }` so we also need the `!important` here to be able to override the default hidden behavior on the sphinx rendered scikit-learn.org. See: https://github.com/scikit-learn/scikit-learn/issues/21755 */display: inline-block !important;position: relative;}#sk-container-id-4 div.sk-text-repr-fallback {display: none;}</style><div id=\"sk-container-id-4\" class=\"sk-top-container\"><div class=\"sk-text-repr-fallback\"><pre>Pipeline(steps=[(&#x27;scaler&#x27;, StandardScaler()), (&#x27;clf&#x27;, LinearRegression())])</pre><b>In a Jupyter environment, please rerun this cell to show the HTML representation or trust the notebook. <br />On GitHub, the HTML representation is unable to render, please try loading this page with nbviewer.org.</b></div><div class=\"sk-container\" hidden><div class=\"sk-item sk-dashed-wrapped\"><div class=\"sk-label-container\"><div class=\"sk-label sk-toggleable\"><input class=\"sk-toggleable__control sk-hidden--visually\" id=\"sk-estimator-id-10\" type=\"checkbox\" ><label for=\"sk-estimator-id-10\" class=\"sk-toggleable__label sk-toggleable__label-arrow\">Pipeline</label><div class=\"sk-toggleable__content\"><pre>Pipeline(steps=[(&#x27;scaler&#x27;, StandardScaler()), (&#x27;clf&#x27;, LinearRegression())])</pre></div></div></div><div class=\"sk-serial\"><div class=\"sk-item\"><div class=\"sk-estimator sk-toggleable\"><input class=\"sk-toggleable__control sk-hidden--visually\" id=\"sk-estimator-id-11\" type=\"checkbox\" ><label for=\"sk-estimator-id-11\" class=\"sk-toggleable__label sk-toggleable__label-arrow\">StandardScaler</label><div class=\"sk-toggleable__content\"><pre>StandardScaler()</pre></div></div></div><div class=\"sk-item\"><div class=\"sk-estimator sk-toggleable\"><input class=\"sk-toggleable__control sk-hidden--visually\" id=\"sk-estimator-id-12\" type=\"checkbox\" ><label for=\"sk-estimator-id-12\" class=\"sk-toggleable__label sk-toggleable__label-arrow\">LinearRegression</label><div class=\"sk-toggleable__content\"><pre>LinearRegression()</pre></div></div></div></div></div></div></div>"
     },
     "execution_count": 23,
     "metadata": {},
     "output_type": "execute_result"
    }
   ],
   "source": [
    "import numpy as np\n",
    "from sklearn.preprocessing import StandardScaler\n",
    "from sklearn.metrics import classification_report\n",
    "from sklearn.pipeline import Pipeline\n",
    "from sklearn.linear_model import LogisticRegression\n",
    "from sklearn.model_selection import GridSearchCV\n",
    "\n",
    "X_to_split = df.drop(['price','surge_multiplier'], inplace=False, axis=1)\n",
    "Y_to_split = df['price']\n",
    "\n",
    "X_train,  X_test, Y_train, Y_test = train_test_split(X_to_split, Y_to_split, random_state=100)\n",
    "\n",
    "dummy1 = DummyRegressor(strategy='mean')\n",
    "lr = LinearRegression()\n",
    "\n",
    "pipelineDummy = Pipeline(\n",
    "    [\n",
    "        (\"scaler\", StandardScaler()),\n",
    "        (\"clf\", dummy1),\n",
    "    ]\n",
    ")\n",
    "\n",
    "pipelineLinear = Pipeline(\n",
    "    [\n",
    "        (\"scaler\", StandardScaler()),\n",
    "        (\"clf\", lr),\n",
    "    ]\n",
    ")\n",
    "\n",
    "\n",
    "pipelineDummy.fit(X_train, Y_train)\n",
    "pipelineLinear.fit(X_train, Y_train)\n"
   ],
   "metadata": {
    "collapsed": false
   }
  },
  {
   "cell_type": "code",
   "execution_count": 24,
   "outputs": [
    {
     "name": "stdout",
     "output_type": "stream",
     "text": [
      "MSE Dummy1 : 86.90642906214326\n",
      "MSE Linear : 76.52616961606286\n"
     ]
    }
   ],
   "source": [
    "from sklearn.metrics import mean_squared_error\n",
    "\n",
    "y_preds_dummy1 = pipelineDummy.predict(X_test)\n",
    "print(f'MSE Dummy1 : {mean_squared_error(Y_test, y_preds_dummy1, squared=True)}')\n",
    "y_preds_lr = pipelineLinear.predict(X_test)\n",
    "print(f'MSE Linear : {mean_squared_error(Y_test, y_preds_lr, squared=True)}')"
   ],
   "metadata": {
    "collapsed": false
   }
  },
  {
   "cell_type": "markdown",
   "source": [
    "Попробуем метод регрессии, основанный на методе N-ближайших соседей"
   ],
   "metadata": {
    "collapsed": false
   }
  },
  {
   "cell_type": "code",
   "execution_count": 25,
   "outputs": [
    {
     "name": "stdout",
     "output_type": "stream",
     "text": [
      "Fitting 5 folds for each of 8 candidates, totalling 40 fits\n",
      "clf__n_neighbors: 10\n",
      "clf__weights: uniform\n",
      "MSE Neighbors : 85.53137763271972\n"
     ]
    }
   ],
   "source": [
    "from sklearn.neighbors import KNeighborsRegressor\n",
    "\n",
    "nr = KNeighborsRegressor()\n",
    "\n",
    "pipelineNR = Pipeline(\n",
    "    [\n",
    "        (\"scaler\", StandardScaler()),\n",
    "        (\"clf\", nr),\n",
    "    ]\n",
    ")\n",
    "\n",
    "parametersNR = {\n",
    "    'clf__n_neighbors': [5,3,7,10],\n",
    "    'clf__weights': ['uniform', 'distance']\n",
    "}\n",
    "\n",
    "grid_searchNR = GridSearchCV(\n",
    "    estimator=pipelineNR,\n",
    "    param_grid=parametersNR,\n",
    "    n_jobs=-1,\n",
    "    verbose=1,\n",
    ")\n",
    "\n",
    "grid_searchNR.fit(X_train, Y_train)\n",
    "\n",
    "best_parametersNR = grid_searchNR.best_estimator_.get_params()\n",
    "for param_name in sorted(parametersNR.keys()):\n",
    "    print(f\"{param_name}: {best_parametersNR[param_name]}\")\n",
    "\n",
    "\n",
    "y_preds_NR_opt = grid_searchNR.predict(X_test)\n",
    "\n",
    "print(f'MSE Neighbors : {mean_squared_error(Y_test, y_preds_NR_opt, squared=True)}')"
   ],
   "metadata": {
    "collapsed": false
   }
  },
  {
   "cell_type": "markdown",
   "source": [
    "Почему-то полученный результат (85.5) хуже линейной регрессии и почти равен результату глупого регрессора. Возможно, это связано с тем, что были отброшены категориальные данные. Попробуем еще два метода регрессии, регрессор, основанный на гауссовских процессах и регрессор, основаный на решающих деревьях\n",
    "\n",
    "Вначале регрессор, основанный на решающих деревьях"
   ],
   "metadata": {
    "collapsed": false
   }
  },
  {
   "cell_type": "code",
   "execution_count": 26,
   "outputs": [
    {
     "name": "stdout",
     "output_type": "stream",
     "text": [
      "Fitting 5 folds for each of 20 candidates, totalling 100 fits\n",
      "clf__max_depth: 5\n",
      "clf__min_samples_split: 3\n",
      "MSE Tree : 76.12355396500973\n"
     ]
    }
   ],
   "source": [
    "from sklearn import tree\n",
    "\n",
    "pipelineTree = Pipeline(\n",
    "    [\n",
    "        (\"scaler\", StandardScaler()),\n",
    "        (\"clf\", tree.DecisionTreeRegressor()),\n",
    "    ]\n",
    ")\n",
    "\n",
    "parametersTree  = {\n",
    "    'clf__max_depth': [2,3,5,7,None],\n",
    "    'clf__min_samples_split': [2, 3, 4, 5]\n",
    "}\n",
    "\n",
    "grid_searchTree = GridSearchCV(\n",
    "    estimator=pipelineTree,\n",
    "    param_grid=parametersTree,\n",
    "    n_jobs=-1,\n",
    "    verbose=1,\n",
    ")\n",
    "\n",
    "grid_searchTree.fit(X_train, Y_train)\n",
    "\n",
    "best_parametersTree = grid_searchTree.best_estimator_.get_params()\n",
    "for param_name in sorted(parametersTree.keys()):\n",
    "    print(f\"{param_name}: {best_parametersTree[param_name]}\")\n",
    "\n",
    "\n",
    "y_preds_tree_opt = grid_searchTree.predict(X_test)\n",
    "\n",
    "print(f'MSE Tree : {mean_squared_error(Y_test, y_preds_tree_opt, squared=True)}')\n"
   ],
   "metadata": {
    "collapsed": false
   }
  },
  {
   "cell_type": "markdown",
   "source": [
    "Полученный результат (76.1) совсем немного превосходит линейную регрессию.."
   ],
   "metadata": {
    "collapsed": false
   }
  },
  {
   "cell_type": "code",
   "execution_count": 27,
   "outputs": [
    {
     "name": "stdout",
     "output_type": "stream",
     "text": [
      "Fitting 5 folds for each of 12 candidates, totalling 60 fits\n",
      "clf__learning_rate: 0.2\n",
      "clf__n_estimators: 50\n",
      "MSE Tree : 76.05910136957364\n"
     ]
    }
   ],
   "source": [
    "from sklearn.ensemble import GradientBoostingRegressor\n",
    "\n",
    "pipelineGBR = Pipeline(\n",
    "    [\n",
    "        (\"scaler\", StandardScaler()),\n",
    "        (\"clf\", GradientBoostingRegressor()),\n",
    "    ]\n",
    ")\n",
    "\n",
    "parametersGBR  = {\n",
    "    'clf__n_estimators': [100,150,200,50],\n",
    "    'clf__learning_rate': [0.1,0.2,0.3],\n",
    "}\n",
    "\n",
    "grid_searchGBR = GridSearchCV(\n",
    "    estimator=pipelineGBR,\n",
    "    param_grid=parametersGBR,\n",
    "    n_jobs=-1,\n",
    "    verbose=1,\n",
    ")\n",
    "\n",
    "grid_searchGBR.fit(X_train, Y_train)\n",
    "\n",
    "best_parametersGBR = grid_searchGBR.best_estimator_.get_params()\n",
    "for param_name in sorted(parametersGBR.keys()):\n",
    "    print(f\"{param_name}: {best_parametersGBR[param_name]}\")\n",
    "\n",
    "\n",
    "y_preds_GBR_opt = grid_searchGBR.predict(X_test)\n",
    "\n",
    "print(f'MSE GBR : {mean_squared_error(Y_test, y_preds_GBR_opt, squared=True)}')"
   ],
   "metadata": {
    "collapsed": false
   }
  },
  {
   "cell_type": "markdown",
   "source": [
    "#### Теперь попробуем повторить те же модели, но проведя Label Encoding"
   ],
   "metadata": {
    "collapsed": false
   }
  },
  {
   "cell_type": "code",
   "execution_count": 28,
   "outputs": [
    {
     "data": {
      "text/plain": "Pipeline(steps=[('scaler', StandardScaler()), ('clf', LinearRegression())])",
      "text/html": "<style>#sk-container-id-5 {color: black;background-color: white;}#sk-container-id-5 pre{padding: 0;}#sk-container-id-5 div.sk-toggleable {background-color: white;}#sk-container-id-5 label.sk-toggleable__label {cursor: pointer;display: block;width: 100%;margin-bottom: 0;padding: 0.3em;box-sizing: border-box;text-align: center;}#sk-container-id-5 label.sk-toggleable__label-arrow:before {content: \"▸\";float: left;margin-right: 0.25em;color: #696969;}#sk-container-id-5 label.sk-toggleable__label-arrow:hover:before {color: black;}#sk-container-id-5 div.sk-estimator:hover label.sk-toggleable__label-arrow:before {color: black;}#sk-container-id-5 div.sk-toggleable__content {max-height: 0;max-width: 0;overflow: hidden;text-align: left;background-color: #f0f8ff;}#sk-container-id-5 div.sk-toggleable__content pre {margin: 0.2em;color: black;border-radius: 0.25em;background-color: #f0f8ff;}#sk-container-id-5 input.sk-toggleable__control:checked~div.sk-toggleable__content {max-height: 200px;max-width: 100%;overflow: auto;}#sk-container-id-5 input.sk-toggleable__control:checked~label.sk-toggleable__label-arrow:before {content: \"▾\";}#sk-container-id-5 div.sk-estimator input.sk-toggleable__control:checked~label.sk-toggleable__label {background-color: #d4ebff;}#sk-container-id-5 div.sk-label input.sk-toggleable__control:checked~label.sk-toggleable__label {background-color: #d4ebff;}#sk-container-id-5 input.sk-hidden--visually {border: 0;clip: rect(1px 1px 1px 1px);clip: rect(1px, 1px, 1px, 1px);height: 1px;margin: -1px;overflow: hidden;padding: 0;position: absolute;width: 1px;}#sk-container-id-5 div.sk-estimator {font-family: monospace;background-color: #f0f8ff;border: 1px dotted black;border-radius: 0.25em;box-sizing: border-box;margin-bottom: 0.5em;}#sk-container-id-5 div.sk-estimator:hover {background-color: #d4ebff;}#sk-container-id-5 div.sk-parallel-item::after {content: \"\";width: 100%;border-bottom: 1px solid gray;flex-grow: 1;}#sk-container-id-5 div.sk-label:hover label.sk-toggleable__label {background-color: #d4ebff;}#sk-container-id-5 div.sk-serial::before {content: \"\";position: absolute;border-left: 1px solid gray;box-sizing: border-box;top: 0;bottom: 0;left: 50%;z-index: 0;}#sk-container-id-5 div.sk-serial {display: flex;flex-direction: column;align-items: center;background-color: white;padding-right: 0.2em;padding-left: 0.2em;position: relative;}#sk-container-id-5 div.sk-item {position: relative;z-index: 1;}#sk-container-id-5 div.sk-parallel {display: flex;align-items: stretch;justify-content: center;background-color: white;position: relative;}#sk-container-id-5 div.sk-item::before, #sk-container-id-5 div.sk-parallel-item::before {content: \"\";position: absolute;border-left: 1px solid gray;box-sizing: border-box;top: 0;bottom: 0;left: 50%;z-index: -1;}#sk-container-id-5 div.sk-parallel-item {display: flex;flex-direction: column;z-index: 1;position: relative;background-color: white;}#sk-container-id-5 div.sk-parallel-item:first-child::after {align-self: flex-end;width: 50%;}#sk-container-id-5 div.sk-parallel-item:last-child::after {align-self: flex-start;width: 50%;}#sk-container-id-5 div.sk-parallel-item:only-child::after {width: 0;}#sk-container-id-5 div.sk-dashed-wrapped {border: 1px dashed gray;margin: 0 0.4em 0.5em 0.4em;box-sizing: border-box;padding-bottom: 0.4em;background-color: white;}#sk-container-id-5 div.sk-label label {font-family: monospace;font-weight: bold;display: inline-block;line-height: 1.2em;}#sk-container-id-5 div.sk-label-container {text-align: center;}#sk-container-id-5 div.sk-container {/* jupyter's `normalize.less` sets `[hidden] { display: none; }` but bootstrap.min.css set `[hidden] { display: none !important; }` so we also need the `!important` here to be able to override the default hidden behavior on the sphinx rendered scikit-learn.org. See: https://github.com/scikit-learn/scikit-learn/issues/21755 */display: inline-block !important;position: relative;}#sk-container-id-5 div.sk-text-repr-fallback {display: none;}</style><div id=\"sk-container-id-5\" class=\"sk-top-container\"><div class=\"sk-text-repr-fallback\"><pre>Pipeline(steps=[(&#x27;scaler&#x27;, StandardScaler()), (&#x27;clf&#x27;, LinearRegression())])</pre><b>In a Jupyter environment, please rerun this cell to show the HTML representation or trust the notebook. <br />On GitHub, the HTML representation is unable to render, please try loading this page with nbviewer.org.</b></div><div class=\"sk-container\" hidden><div class=\"sk-item sk-dashed-wrapped\"><div class=\"sk-label-container\"><div class=\"sk-label sk-toggleable\"><input class=\"sk-toggleable__control sk-hidden--visually\" id=\"sk-estimator-id-13\" type=\"checkbox\" ><label for=\"sk-estimator-id-13\" class=\"sk-toggleable__label sk-toggleable__label-arrow\">Pipeline</label><div class=\"sk-toggleable__content\"><pre>Pipeline(steps=[(&#x27;scaler&#x27;, StandardScaler()), (&#x27;clf&#x27;, LinearRegression())])</pre></div></div></div><div class=\"sk-serial\"><div class=\"sk-item\"><div class=\"sk-estimator sk-toggleable\"><input class=\"sk-toggleable__control sk-hidden--visually\" id=\"sk-estimator-id-14\" type=\"checkbox\" ><label for=\"sk-estimator-id-14\" class=\"sk-toggleable__label sk-toggleable__label-arrow\">StandardScaler</label><div class=\"sk-toggleable__content\"><pre>StandardScaler()</pre></div></div></div><div class=\"sk-item\"><div class=\"sk-estimator sk-toggleable\"><input class=\"sk-toggleable__control sk-hidden--visually\" id=\"sk-estimator-id-15\" type=\"checkbox\" ><label for=\"sk-estimator-id-15\" class=\"sk-toggleable__label sk-toggleable__label-arrow\">LinearRegression</label><div class=\"sk-toggleable__content\"><pre>LinearRegression()</pre></div></div></div></div></div></div></div>"
     },
     "execution_count": 28,
     "metadata": {},
     "output_type": "execute_result"
    }
   ],
   "source": [
    "\n",
    "import numpy as np\n",
    "from sklearn.preprocessing import StandardScaler\n",
    "from sklearn.metrics import classification_report\n",
    "from sklearn.pipeline import Pipeline\n",
    "from sklearn.linear_model import LogisticRegression\n",
    "from sklearn.model_selection import GridSearchCV\n",
    "\n",
    "df = df2\n",
    "\n",
    "from sklearn.preprocessing import LabelEncoder\n",
    "\n",
    "le = LabelEncoder()\n",
    "for c in df.columns:\n",
    "    df[c] = le.fit_transform(df[c])\n",
    "\n",
    "X_to_split = df.drop(['price','surge_multiplier'], inplace=False, axis=1)\n",
    "Y_to_split = df['price']\n",
    "\n",
    "X_train,  X_test, Y_train, Y_test = train_test_split(X_to_split, Y_to_split, random_state=100)\n",
    "\n",
    "dummy1 = DummyRegressor(strategy='mean')\n",
    "lr = LinearRegression()\n",
    "\n",
    "pipelineDummy = Pipeline(\n",
    "    [\n",
    "        (\"scaler\", StandardScaler()),\n",
    "        (\"clf\", dummy1),\n",
    "    ]\n",
    ")\n",
    "\n",
    "pipelineLinear = Pipeline(\n",
    "    [\n",
    "        (\"scaler\", StandardScaler()),\n",
    "        (\"clf\", lr),\n",
    "    ]\n",
    ")\n",
    "\n",
    "\n",
    "pipelineDummy.fit(X_train, Y_train)\n",
    "pipelineLinear.fit(X_train, Y_train)"
   ],
   "metadata": {
    "collapsed": false
   }
  },
  {
   "cell_type": "code",
   "execution_count": 29,
   "outputs": [
    {
     "name": "stdout",
     "output_type": "stream",
     "text": [
      "MSE Dummy1 : 443.5180559696383\n",
      "MSE Linear : 232.16233744815958\n"
     ]
    }
   ],
   "source": [
    "from sklearn.metrics import mean_squared_error\n",
    "\n",
    "y_preds_dummy1 = pipelineDummy.predict(X_test)\n",
    "print(f'MSE Dummy1 : {mean_squared_error(Y_test, y_preds_dummy1, squared=True)}')\n",
    "y_preds_lr = pipelineLinear.predict(X_test)\n",
    "print(f'MSE Linear : {mean_squared_error(Y_test, y_preds_lr, squared=True)}')"
   ],
   "metadata": {
    "collapsed": false
   }
  },
  {
   "cell_type": "code",
   "execution_count": 30,
   "outputs": [
    {
     "name": "stdout",
     "output_type": "stream",
     "text": [
      "Fitting 5 folds for each of 8 candidates, totalling 40 fits\n",
      "clf__n_neighbors: 10\n",
      "clf__weights: distance\n",
      "MSE Neighbors : 203.76513680686577\n"
     ]
    }
   ],
   "source": [
    "from sklearn.neighbors import KNeighborsRegressor\n",
    "\n",
    "nr = KNeighborsRegressor()\n",
    "\n",
    "pipelineNR = Pipeline(\n",
    "    [\n",
    "        (\"scaler\", StandardScaler()),\n",
    "        (\"clf\", nr),\n",
    "    ]\n",
    ")\n",
    "\n",
    "parametersNR = {\n",
    "    'clf__n_neighbors': [5,3,7,10],\n",
    "    'clf__weights': ['uniform', 'distance']\n",
    "}\n",
    "\n",
    "grid_searchNR = GridSearchCV(\n",
    "    estimator=pipelineNR,\n",
    "    param_grid=parametersNR,\n",
    "    n_jobs=-1,\n",
    "    verbose=1,\n",
    ")\n",
    "\n",
    "grid_searchNR.fit(X_train, Y_train)\n",
    "\n",
    "best_parametersNR = grid_searchNR.best_estimator_.get_params()\n",
    "for param_name in sorted(parametersNR.keys()):\n",
    "    print(f\"{param_name}: {best_parametersNR[param_name]}\")\n",
    "\n",
    "\n",
    "y_preds_NR_opt = grid_searchNR.predict(X_test)\n",
    "\n",
    "print(f'MSE Neighbors : {mean_squared_error(Y_test, y_preds_NR_opt, squared=True)}')"
   ],
   "metadata": {
    "collapsed": false
   }
  },
  {
   "cell_type": "code",
   "execution_count": 31,
   "outputs": [
    {
     "name": "stdout",
     "output_type": "stream",
     "text": [
      "Fitting 5 folds for each of 20 candidates, totalling 100 fits\n",
      "clf__max_depth: 7\n",
      "clf__min_samples_split: 2\n",
      "MSE Tree : 32.94347552031417\n"
     ]
    }
   ],
   "source": [
    "from sklearn import tree\n",
    "\n",
    "pipelineTree = Pipeline(\n",
    "    [\n",
    "        (\"scaler\", StandardScaler()),\n",
    "        (\"clf\", tree.DecisionTreeRegressor()),\n",
    "    ]\n",
    ")\n",
    "\n",
    "parametersTree  = {\n",
    "    'clf__max_depth': [2,3,5,7,None],\n",
    "    'clf__min_samples_split': [2, 3, 4, 5]\n",
    "}\n",
    "\n",
    "grid_searchTree = GridSearchCV(\n",
    "    estimator=pipelineTree,\n",
    "    param_grid=parametersTree,\n",
    "    n_jobs=-1,\n",
    "    verbose=1,\n",
    ")\n",
    "\n",
    "grid_searchTree.fit(X_train, Y_train)\n",
    "\n",
    "best_parametersTree = grid_searchTree.best_estimator_.get_params()\n",
    "for param_name in sorted(parametersTree.keys()):\n",
    "    print(f\"{param_name}: {best_parametersTree[param_name]}\")\n",
    "\n",
    "\n",
    "y_preds_tree_opt = grid_searchTree.predict(X_test)\n",
    "\n",
    "print(f'MSE Tree : {mean_squared_error(Y_test, y_preds_tree_opt, squared=True)}')"
   ],
   "metadata": {
    "collapsed": false
   }
  },
  {
   "cell_type": "code",
   "execution_count": 32,
   "outputs": [
    {
     "name": "stdout",
     "output_type": "stream",
     "text": [
      "Fitting 5 folds for each of 12 candidates, totalling 60 fits\n",
      "clf__learning_rate: 0.3\n",
      "clf__n_estimators: 200\n",
      "MSE Tree : 29.7204594247931\n"
     ]
    }
   ],
   "source": [
    "from sklearn.ensemble import GradientBoostingRegressor\n",
    "\n",
    "pipelineGBR = Pipeline(\n",
    "    [\n",
    "        (\"scaler\", StandardScaler()),\n",
    "        (\"clf\", GradientBoostingRegressor()),\n",
    "    ]\n",
    ")\n",
    "\n",
    "parametersGBR  = {\n",
    "    'clf__n_estimators': [100,150,200,50],\n",
    "    'clf__learning_rate': [0.1,0.2,0.3],\n",
    "}\n",
    "\n",
    "grid_searchGBR = GridSearchCV(\n",
    "    estimator=pipelineGBR,\n",
    "    param_grid=parametersGBR,\n",
    "    n_jobs=-1,\n",
    "    verbose=1,\n",
    ")\n",
    "\n",
    "grid_searchGBR.fit(X_train, Y_train)\n",
    "\n",
    "best_parametersGBR = grid_searchGBR.best_estimator_.get_params()\n",
    "for param_name in sorted(parametersGBR.keys()):\n",
    "    print(f\"{param_name}: {best_parametersGBR[param_name]}\")\n",
    "\n",
    "\n",
    "y_preds_GBR_opt = grid_searchGBR.predict(X_test)\n",
    "\n",
    "print(f'MSE GBR : {mean_squared_error(Y_test, y_preds_GBR_opt, squared=True)}')"
   ],
   "metadata": {
    "collapsed": false
   }
  },
  {
   "cell_type": "markdown",
   "source": [
    "#### Выводы\n",
    "\n",
    "Запишем полученные результаты в виде таблицы:\n",
    "\n",
    "| Тип регрессора         | MSE - С категориальными значениями | MSE - Без категориальных значений |\n",
    "|------------------------|------------------------------------|-----------------------------------|\n",
    "| Бейслайн               | 443.5                              | 86.9                              |\n",
    "| Линейный               | 232.2                              | 76.5                              |\n",
    "| N ближайших соседей    | 203.8                              | 85.5                              |\n",
    "| Основанный на деревьях | 32.9                               | 76.1                              |\n",
    "| Градиентный бустинг    | 29.7                               | 76                                |\n",
    "\n",
    "Видно, что при отбрасывании категориальных значений различным методам машинного обучения крайне сложно превзойти обычную линейную регрессию, следовательно, в данном случае отбрасывать подобные значения не стоит. А вот при обучении моделей с данными, включающими в себя категориальные значения, сразу два метода регрессии (основанный на деревьях и градиентный бустинг) показывают результаты, которые превышают результативность линейной регрессии почти на порядок\n",
    "\n",
    "Оптимальные параметры для GBR- и Tree-регрессоров\n",
    "\n",
    "GBR: learning_rate = 0.3, n_estimators = 200\n",
    "Tree: max_depth = 7, min_samples_split = 2"
   ],
   "metadata": {
    "collapsed": false
   }
  },
  {
   "cell_type": "markdown",
   "source": [],
   "metadata": {
    "collapsed": false
   }
  }
 ],
 "metadata": {
  "kernelspec": {
   "display_name": "Python 3",
   "language": "python",
   "name": "python3"
  },
  "language_info": {
   "codemirror_mode": {
    "name": "ipython",
    "version": 2
   },
   "file_extension": ".py",
   "mimetype": "text/x-python",
   "name": "python",
   "nbconvert_exporter": "python",
   "pygments_lexer": "ipython2",
   "version": "2.7.6"
  }
 },
 "nbformat": 4,
 "nbformat_minor": 0
}
