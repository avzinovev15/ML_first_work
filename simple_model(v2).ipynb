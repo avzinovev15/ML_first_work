{
 "cells": [
  {
   "cell_type": "code",
   "execution_count": 2,
   "metadata": {
    "collapsed": true
   },
   "outputs": [],
   "source": [
    "import pandas as pd\n",
    "import seaborn as sns\n",
    "\n",
    "from sklearn.model_selection import train_test_split\n",
    "from sklearn.dummy import DummyRegressor\n",
    "from sklearn.linear_model import LinearRegression"
   ]
  },
  {
   "cell_type": "code",
   "execution_count": 3,
   "outputs": [],
   "source": [
    "df = pd.read_csv('huh.csv')"
   ],
   "metadata": {
    "collapsed": false
   }
  },
  {
   "cell_type": "markdown",
   "source": [
    "Проведем label encoding"
   ],
   "metadata": {
    "collapsed": false
   }
  },
  {
   "cell_type": "code",
   "execution_count": 4,
   "outputs": [
    {
     "data": {
      "text/plain": "   Unnamed: 0      id  hour  day  month  source  destination  name  price  \\\n0           0  165097     9    9      1       5            7     7      4   \n1           1  188776     2   13      0       5            7     2     20   \n2           2  378853     1   14      0       5            7     5      8   \n3           3  485300     4   16      0       5            7     4     53   \n4           4  558249     3   15      0       5            7     6     14   \n\n   distance  ...  icon  dewPoint  pressure  windBearing  cloudCover  uvIndex  \\\n0        15  ...     5       173       230           21          58        0   \n1        15  ...     6       258        98           40          82        0   \n2        15  ...     1       149        28          113           3        0   \n3        15  ...     1        61       158          163           0        0   \n4        15  ...     5       115        39          156          37        0   \n\n   ozone  moonPhase  precipIntensityMax  temperatureMin  \n0    131          5                  52             113  \n1     69          9                  53             118  \n2    157         10                  36              78  \n3     69         12                   0              67  \n4    237         11                   1              51  \n\n[5 rows x 33 columns]",
      "text/html": "<div>\n<style scoped>\n    .dataframe tbody tr th:only-of-type {\n        vertical-align: middle;\n    }\n\n    .dataframe tbody tr th {\n        vertical-align: top;\n    }\n\n    .dataframe thead th {\n        text-align: right;\n    }\n</style>\n<table border=\"1\" class=\"dataframe\">\n  <thead>\n    <tr style=\"text-align: right;\">\n      <th></th>\n      <th>Unnamed: 0</th>\n      <th>id</th>\n      <th>hour</th>\n      <th>day</th>\n      <th>month</th>\n      <th>source</th>\n      <th>destination</th>\n      <th>name</th>\n      <th>price</th>\n      <th>distance</th>\n      <th>...</th>\n      <th>icon</th>\n      <th>dewPoint</th>\n      <th>pressure</th>\n      <th>windBearing</th>\n      <th>cloudCover</th>\n      <th>uvIndex</th>\n      <th>ozone</th>\n      <th>moonPhase</th>\n      <th>precipIntensityMax</th>\n      <th>temperatureMin</th>\n    </tr>\n  </thead>\n  <tbody>\n    <tr>\n      <th>0</th>\n      <td>0</td>\n      <td>165097</td>\n      <td>9</td>\n      <td>9</td>\n      <td>1</td>\n      <td>5</td>\n      <td>7</td>\n      <td>7</td>\n      <td>4</td>\n      <td>15</td>\n      <td>...</td>\n      <td>5</td>\n      <td>173</td>\n      <td>230</td>\n      <td>21</td>\n      <td>58</td>\n      <td>0</td>\n      <td>131</td>\n      <td>5</td>\n      <td>52</td>\n      <td>113</td>\n    </tr>\n    <tr>\n      <th>1</th>\n      <td>1</td>\n      <td>188776</td>\n      <td>2</td>\n      <td>13</td>\n      <td>0</td>\n      <td>5</td>\n      <td>7</td>\n      <td>2</td>\n      <td>20</td>\n      <td>15</td>\n      <td>...</td>\n      <td>6</td>\n      <td>258</td>\n      <td>98</td>\n      <td>40</td>\n      <td>82</td>\n      <td>0</td>\n      <td>69</td>\n      <td>9</td>\n      <td>53</td>\n      <td>118</td>\n    </tr>\n    <tr>\n      <th>2</th>\n      <td>2</td>\n      <td>378853</td>\n      <td>1</td>\n      <td>14</td>\n      <td>0</td>\n      <td>5</td>\n      <td>7</td>\n      <td>5</td>\n      <td>8</td>\n      <td>15</td>\n      <td>...</td>\n      <td>1</td>\n      <td>149</td>\n      <td>28</td>\n      <td>113</td>\n      <td>3</td>\n      <td>0</td>\n      <td>157</td>\n      <td>10</td>\n      <td>36</td>\n      <td>78</td>\n    </tr>\n    <tr>\n      <th>3</th>\n      <td>3</td>\n      <td>485300</td>\n      <td>4</td>\n      <td>16</td>\n      <td>0</td>\n      <td>5</td>\n      <td>7</td>\n      <td>4</td>\n      <td>53</td>\n      <td>15</td>\n      <td>...</td>\n      <td>1</td>\n      <td>61</td>\n      <td>158</td>\n      <td>163</td>\n      <td>0</td>\n      <td>0</td>\n      <td>69</td>\n      <td>12</td>\n      <td>0</td>\n      <td>67</td>\n    </tr>\n    <tr>\n      <th>4</th>\n      <td>4</td>\n      <td>558249</td>\n      <td>3</td>\n      <td>15</td>\n      <td>0</td>\n      <td>5</td>\n      <td>7</td>\n      <td>6</td>\n      <td>14</td>\n      <td>15</td>\n      <td>...</td>\n      <td>5</td>\n      <td>115</td>\n      <td>39</td>\n      <td>156</td>\n      <td>37</td>\n      <td>0</td>\n      <td>237</td>\n      <td>11</td>\n      <td>1</td>\n      <td>51</td>\n    </tr>\n  </tbody>\n</table>\n<p>5 rows × 33 columns</p>\n</div>"
     },
     "execution_count": 4,
     "metadata": {},
     "output_type": "execute_result"
    }
   ],
   "source": [
    "from sklearn.preprocessing import LabelEncoder\n",
    "\n",
    "le = LabelEncoder()\n",
    "for c in df.columns:\n",
    "    df[c] = le.fit_transform(df[c])\n",
    "df.head()"
   ],
   "metadata": {
    "collapsed": false
   }
  },
  {
   "cell_type": "markdown",
   "source": [
    "Для начала построим несколько бейслайнов для того, чтобы выбрать наилучший"
   ],
   "metadata": {
    "collapsed": false
   }
  },
  {
   "cell_type": "code",
   "execution_count": 5,
   "outputs": [
    {
     "data": {
      "text/plain": "LinearRegression()",
      "text/html": "<style>#sk-container-id-1 {color: black;background-color: white;}#sk-container-id-1 pre{padding: 0;}#sk-container-id-1 div.sk-toggleable {background-color: white;}#sk-container-id-1 label.sk-toggleable__label {cursor: pointer;display: block;width: 100%;margin-bottom: 0;padding: 0.3em;box-sizing: border-box;text-align: center;}#sk-container-id-1 label.sk-toggleable__label-arrow:before {content: \"▸\";float: left;margin-right: 0.25em;color: #696969;}#sk-container-id-1 label.sk-toggleable__label-arrow:hover:before {color: black;}#sk-container-id-1 div.sk-estimator:hover label.sk-toggleable__label-arrow:before {color: black;}#sk-container-id-1 div.sk-toggleable__content {max-height: 0;max-width: 0;overflow: hidden;text-align: left;background-color: #f0f8ff;}#sk-container-id-1 div.sk-toggleable__content pre {margin: 0.2em;color: black;border-radius: 0.25em;background-color: #f0f8ff;}#sk-container-id-1 input.sk-toggleable__control:checked~div.sk-toggleable__content {max-height: 200px;max-width: 100%;overflow: auto;}#sk-container-id-1 input.sk-toggleable__control:checked~label.sk-toggleable__label-arrow:before {content: \"▾\";}#sk-container-id-1 div.sk-estimator input.sk-toggleable__control:checked~label.sk-toggleable__label {background-color: #d4ebff;}#sk-container-id-1 div.sk-label input.sk-toggleable__control:checked~label.sk-toggleable__label {background-color: #d4ebff;}#sk-container-id-1 input.sk-hidden--visually {border: 0;clip: rect(1px 1px 1px 1px);clip: rect(1px, 1px, 1px, 1px);height: 1px;margin: -1px;overflow: hidden;padding: 0;position: absolute;width: 1px;}#sk-container-id-1 div.sk-estimator {font-family: monospace;background-color: #f0f8ff;border: 1px dotted black;border-radius: 0.25em;box-sizing: border-box;margin-bottom: 0.5em;}#sk-container-id-1 div.sk-estimator:hover {background-color: #d4ebff;}#sk-container-id-1 div.sk-parallel-item::after {content: \"\";width: 100%;border-bottom: 1px solid gray;flex-grow: 1;}#sk-container-id-1 div.sk-label:hover label.sk-toggleable__label {background-color: #d4ebff;}#sk-container-id-1 div.sk-serial::before {content: \"\";position: absolute;border-left: 1px solid gray;box-sizing: border-box;top: 0;bottom: 0;left: 50%;z-index: 0;}#sk-container-id-1 div.sk-serial {display: flex;flex-direction: column;align-items: center;background-color: white;padding-right: 0.2em;padding-left: 0.2em;position: relative;}#sk-container-id-1 div.sk-item {position: relative;z-index: 1;}#sk-container-id-1 div.sk-parallel {display: flex;align-items: stretch;justify-content: center;background-color: white;position: relative;}#sk-container-id-1 div.sk-item::before, #sk-container-id-1 div.sk-parallel-item::before {content: \"\";position: absolute;border-left: 1px solid gray;box-sizing: border-box;top: 0;bottom: 0;left: 50%;z-index: -1;}#sk-container-id-1 div.sk-parallel-item {display: flex;flex-direction: column;z-index: 1;position: relative;background-color: white;}#sk-container-id-1 div.sk-parallel-item:first-child::after {align-self: flex-end;width: 50%;}#sk-container-id-1 div.sk-parallel-item:last-child::after {align-self: flex-start;width: 50%;}#sk-container-id-1 div.sk-parallel-item:only-child::after {width: 0;}#sk-container-id-1 div.sk-dashed-wrapped {border: 1px dashed gray;margin: 0 0.4em 0.5em 0.4em;box-sizing: border-box;padding-bottom: 0.4em;background-color: white;}#sk-container-id-1 div.sk-label label {font-family: monospace;font-weight: bold;display: inline-block;line-height: 1.2em;}#sk-container-id-1 div.sk-label-container {text-align: center;}#sk-container-id-1 div.sk-container {/* jupyter's `normalize.less` sets `[hidden] { display: none; }` but bootstrap.min.css set `[hidden] { display: none !important; }` so we also need the `!important` here to be able to override the default hidden behavior on the sphinx rendered scikit-learn.org. See: https://github.com/scikit-learn/scikit-learn/issues/21755 */display: inline-block !important;position: relative;}#sk-container-id-1 div.sk-text-repr-fallback {display: none;}</style><div id=\"sk-container-id-1\" class=\"sk-top-container\"><div class=\"sk-text-repr-fallback\"><pre>LinearRegression()</pre><b>In a Jupyter environment, please rerun this cell to show the HTML representation or trust the notebook. <br />On GitHub, the HTML representation is unable to render, please try loading this page with nbviewer.org.</b></div><div class=\"sk-container\" hidden><div class=\"sk-item\"><div class=\"sk-estimator sk-toggleable\"><input class=\"sk-toggleable__control sk-hidden--visually\" id=\"sk-estimator-id-1\" type=\"checkbox\" checked><label for=\"sk-estimator-id-1\" class=\"sk-toggleable__label sk-toggleable__label-arrow\">LinearRegression</label><div class=\"sk-toggleable__content\"><pre>LinearRegression()</pre></div></div></div></div></div>"
     },
     "execution_count": 5,
     "metadata": {},
     "output_type": "execute_result"
    }
   ],
   "source": [
    "X_to_split = df.drop(['price','surge_multiplier'], inplace=False, axis=1)\n",
    "Y_to_split = df['price']\n",
    "\n",
    "X_train,  X_test, Y_train, Y_test = train_test_split(X_to_split, Y_to_split, random_state=100)\n",
    "\n",
    "dummy1 = DummyRegressor(strategy='mean')\n",
    "dummy2 = DummyRegressor(strategy='median')\n",
    "\n",
    "lr = LinearRegression()\n",
    "\n",
    "dummy1.fit(X_train, Y_train)\n",
    "dummy2.fit(X_train, Y_train)\n",
    "lr.fit(X_train, Y_train)"
   ],
   "metadata": {
    "collapsed": false
   }
  },
  {
   "cell_type": "markdown",
   "source": [
    "Посмотрим, сколько выбросов в графе цена"
   ],
   "metadata": {
    "collapsed": false
   }
  },
  {
   "cell_type": "code",
   "execution_count": 11,
   "outputs": [
    {
     "name": "stdout",
     "output_type": "stream",
     "text": [
      "Values larger than 100 2184\n",
      "Values larger than 160 0\n"
     ]
    }
   ],
   "source": [
    "print(\"Values larger than 100 \" + str(Y_to_split[Y_to_split > 100].count()))\n",
    "print(\"Values larger than 160 \" + str(Y_to_split[Y_to_split > 160].count()))"
   ],
   "metadata": {
    "collapsed": false
   }
  },
  {
   "cell_type": "markdown",
   "source": [
    "Так как явных выбросов (цена больше 160) в данных нет, а значения более 100 долларов составляют довольно малую часть, будем использовать метрику среднеквадратичной ошибки (MSE), которая является очень чувствительной (так как содержит возведение в квадрат)."
   ],
   "metadata": {
    "collapsed": false
   }
  },
  {
   "cell_type": "code",
   "execution_count": 13,
   "outputs": [
    {
     "name": "stdout",
     "output_type": "stream",
     "text": [
      "MSE Dummy1 : 443.5180559696383\n",
      "MSE Dummy2 : 473.85158689355086\n",
      "MSE Linear : 232.16233744815963\n"
     ]
    }
   ],
   "source": [
    "from sklearn.metrics import mean_squared_error\n",
    "\n",
    "y_preds_dummy1 = dummy1.predict(X_test)\n",
    "print(f'MSE Dummy1 : {mean_squared_error(Y_test, y_preds_dummy1, squared=True)}')\n",
    "y_preds_dummy2 = dummy2.predict(X_test)\n",
    "print(f'MSE Dummy2 : {mean_squared_error(Y_test, y_preds_dummy2, squared=True)}')\n",
    "y_preds_lr = lr.predict(X_test)\n",
    "print(f'MSE Linear : {mean_squared_error(Y_test, y_preds_lr, squared=True)}')"
   ],
   "metadata": {
    "collapsed": false
   }
  },
  {
   "cell_type": "markdown",
   "source": [
    "Кажется, что, несмотря на то, что линейная регрессия предсказывает цены лучше, чем \"глупые\" регрессоры, ошибка все равно кажется большой. Попробуем в следующем задании как-то улучшить модель или использовать другие способы регрессии"
   ],
   "metadata": {
    "collapsed": false
   }
  }
 ],
 "metadata": {
  "kernelspec": {
   "display_name": "Python 3",
   "language": "python",
   "name": "python3"
  },
  "language_info": {
   "codemirror_mode": {
    "name": "ipython",
    "version": 2
   },
   "file_extension": ".py",
   "mimetype": "text/x-python",
   "name": "python",
   "nbconvert_exporter": "python",
   "pygments_lexer": "ipython2",
   "version": "2.7.6"
  }
 },
 "nbformat": 4,
 "nbformat_minor": 0
}
